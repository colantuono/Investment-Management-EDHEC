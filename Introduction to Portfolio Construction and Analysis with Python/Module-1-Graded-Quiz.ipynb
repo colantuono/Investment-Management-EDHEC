{
 "cells": [
  {
   "cell_type": "code",
   "execution_count": 1,
   "id": "12acf881",
   "metadata": {},
   "outputs": [
    {
     "name": "stdout",
     "output_type": "stream",
     "text": [
      "C:\\Users\\joao.colantuono\\Investment-Management-EDHEC\\Introduction to Portfolio Construction and Analysis with Python\n"
     ]
    }
   ],
   "source": [
    "import os\n",
    "print(os.getcwd())\n",
    "os.chdir(\"C:/Users/joao.colantuono/Investment-Management-EDHEC/Introduction to Portfolio Construction and Analysis with Python/\")\n",
    "import warnings\n",
    "warnings.filterwarnings(\"ignore\")\n",
    "\n",
    "import pandas as pd\n",
    "import edhec_risk_kit as erk\n",
    "%load_ext autoreload\n",
    "%autoreload 2\n",
    "%matplotlib inline"
   ]
  },
  {
   "cell_type": "code",
   "execution_count": 2,
   "id": "9629ace0",
   "metadata": {},
   "outputs": [],
   "source": [
    "data = pd.read_csv('data/Portfolios_Formed_on_ME_monthly_EW.csv'\n",
    "                  , header=0, index_col=0, parse_dates=True, na_values=-99.99)"
   ]
  },
  {
   "cell_type": "code",
   "execution_count": 3,
   "id": "4849cc01",
   "metadata": {
    "scrolled": true
   },
   "outputs": [],
   "source": [
    "df = data.copy()\n",
    "df = df[['Lo 20', 'Hi 20']]\n",
    "df.columns = ['Lo 20', 'Hi 20']\n",
    "df.index = pd.to_datetime(df.index, format=\"%Y%m\")"
   ]
  },
  {
   "cell_type": "code",
   "execution_count": 4,
   "id": "19babbeb",
   "metadata": {},
   "outputs": [
    {
     "data": {
      "text/plain": [
       "15.197701163833743"
      ]
     },
     "execution_count": 4,
     "metadata": {},
     "output_type": "execute_result"
    }
   ],
   "source": [
    "returns = df['Lo 20']/100\n",
    "erk.annualize_rets(returns, 12)*100"
   ]
  },
  {
   "cell_type": "code",
   "execution_count": 5,
   "id": "cb674e13",
   "metadata": {},
   "outputs": [
    {
     "data": {
      "text/plain": [
       "33.67012751715775"
      ]
     },
     "execution_count": 5,
     "metadata": {},
     "output_type": "execute_result"
    }
   ],
   "source": [
    "returns = df['Lo 20']/100\n",
    "erk.annualize_vol(returns, 12)*100"
   ]
  },
  {
   "cell_type": "code",
   "execution_count": 6,
   "id": "b585e8d4",
   "metadata": {},
   "outputs": [
    {
     "data": {
      "text/plain": [
       "9.849020951253152"
      ]
     },
     "execution_count": 6,
     "metadata": {},
     "output_type": "execute_result"
    }
   ],
   "source": [
    "returns = df['Hi 20']/100\n",
    "erk.annualize_rets(returns, 12)*100"
   ]
  },
  {
   "cell_type": "code",
   "execution_count": 7,
   "id": "d6bd955f",
   "metadata": {},
   "outputs": [
    {
     "data": {
      "text/plain": [
       "19.511604155631314"
      ]
     },
     "execution_count": 7,
     "metadata": {},
     "output_type": "execute_result"
    }
   ],
   "source": [
    "returns = df['Hi 20']/100\n",
    "erk.annualize_vol(returns, 12)*100"
   ]
  },
  {
   "cell_type": "code",
   "execution_count": 8,
   "id": "8dfd2a1f",
   "metadata": {},
   "outputs": [
    {
     "data": {
      "text/plain": [
       "11.442634058514933"
      ]
     },
     "execution_count": 8,
     "metadata": {},
     "output_type": "execute_result"
    }
   ],
   "source": [
    "returns = df['Lo 20']['1999':'2015']/100\n",
    "erk.annualize_rets(returns, 12)*100"
   ]
  },
  {
   "cell_type": "code",
   "execution_count": 9,
   "id": "4410cc16",
   "metadata": {
    "scrolled": true
   },
   "outputs": [
    {
     "data": {
      "text/plain": [
       "22.889447266699595"
      ]
     },
     "execution_count": 9,
     "metadata": {},
     "output_type": "execute_result"
    }
   ],
   "source": [
    "returns = df['Lo 20']['1999':'2015']/100\n",
    "erk.annualize_vol(returns, 12)*100"
   ]
  },
  {
   "cell_type": "code",
   "execution_count": 10,
   "id": "a2e3416a",
   "metadata": {},
   "outputs": [
    {
     "data": {
      "text/plain": [
       "6.286512130085109"
      ]
     },
     "execution_count": 10,
     "metadata": {},
     "output_type": "execute_result"
    }
   ],
   "source": [
    "returns = df['Hi 20']['1999':'2015']/100\n",
    "erk.annualize_rets(returns, 12)*100"
   ]
  },
  {
   "cell_type": "code",
   "execution_count": 11,
   "id": "4ab16bfb",
   "metadata": {
    "scrolled": true
   },
   "outputs": [
    {
     "data": {
      "text/plain": [
       "17.271332121250474"
      ]
     },
     "execution_count": 11,
     "metadata": {},
     "output_type": "execute_result"
    }
   ],
   "source": [
    "returns = df['Hi 20']['1999':'2015']/100\n",
    "erk.annualize_vol(returns, 12)*100"
   ]
  },
  {
   "cell_type": "code",
   "execution_count": 19,
   "id": "937b0747",
   "metadata": {
    "scrolled": true
   },
   "outputs": [
    {
     "data": {
      "text/plain": [
       "62.48092431236988"
      ]
     },
     "execution_count": 19,
     "metadata": {},
     "output_type": "execute_result"
    }
   ],
   "source": [
    "returns = df['Lo 20']['1999':'2015']/100\n",
    "-erk.drawdown(returns)['Drawdown'].min()*100"
   ]
  },
  {
   "cell_type": "code",
   "execution_count": 21,
   "id": "899e99aa",
   "metadata": {},
   "outputs": [
    {
     "data": {
      "text/plain": [
       "Timestamp('2009-02-01 00:00:00')"
      ]
     },
     "execution_count": 21,
     "metadata": {},
     "output_type": "execute_result"
    }
   ],
   "source": [
    "returns = df['Lo 20']['1999':'2015']/100\n",
    "erk.drawdown(returns)['Drawdown'].idxmin()"
   ]
  },
  {
   "cell_type": "code",
   "execution_count": 22,
   "id": "6364c607",
   "metadata": {
    "scrolled": true
   },
   "outputs": [
    {
     "data": {
      "text/plain": [
       "55.27349978713653"
      ]
     },
     "execution_count": 22,
     "metadata": {},
     "output_type": "execute_result"
    }
   ],
   "source": [
    "returns = df['Hi 20']['1999':'2015']/100\n",
    "-erk.drawdown(returns)['Drawdown'].min()*100"
   ]
  },
  {
   "cell_type": "code",
   "execution_count": 21,
   "id": "af91ba81",
   "metadata": {},
   "outputs": [
    {
     "data": {
      "text/plain": [
       "Timestamp('2009-02-01 00:00:00')"
      ]
     },
     "execution_count": 21,
     "metadata": {},
     "output_type": "execute_result"
    }
   ],
   "source": [
    "returns = df['Hi 20']['1999':'2015']/100\n",
    "erk.drawdown(returns)['Drawdown'].idxmin()"
   ]
  },
  {
   "cell_type": "code",
   "execution_count": 27,
   "id": "943164ad",
   "metadata": {},
   "outputs": [],
   "source": [
    "data = pd.read_csv('data/edhec-hedgefundindices.csv'\n",
    "                  , header=0, index_col=0, parse_dates=True, na_values=-99.99)['2009':'2018']\n",
    "df = data.copy()"
   ]
  },
  {
   "cell_type": "code",
   "execution_count": 39,
   "id": "4d6251b2",
   "metadata": {},
   "outputs": [
    {
     "data": {
      "text/plain": [
       "Short Selling    2.124006\n",
       "dtype: float64"
      ]
     },
     "execution_count": 39,
     "metadata": {},
     "output_type": "execute_result"
    }
   ],
   "source": [
    "erk.semideviation(df).sort_values().tail(1)"
   ]
  },
  {
   "cell_type": "code",
   "execution_count": 40,
   "id": "59ff3d59",
   "metadata": {},
   "outputs": [
    {
     "data": {
      "text/plain": [
       "Fixed Income Arbitrage    0.332054\n",
       "dtype: float64"
      ]
     },
     "execution_count": 40,
     "metadata": {},
     "output_type": "execute_result"
    }
   ],
   "source": [
    "erk.semideviation(df).sort_values().head(1)"
   ]
  },
  {
   "cell_type": "code",
   "execution_count": 37,
   "id": "b3363654",
   "metadata": {},
   "outputs": [
    {
     "data": {
      "text/plain": [
       "Equity Market Neutral   -0.896327\n",
       "dtype: float64"
      ]
     },
     "execution_count": 37,
     "metadata": {},
     "output_type": "execute_result"
    }
   ],
   "source": [
    "erk.skewness(df).sort_values().head(1)"
   ]
  },
  {
   "cell_type": "code",
   "execution_count": 38,
   "id": "91603ad3",
   "metadata": {},
   "outputs": [
    {
     "data": {
      "text/plain": [
       "Convertible Arbitrage    6.775731\n",
       "dtype: float64"
      ]
     },
     "execution_count": 38,
     "metadata": {},
     "output_type": "execute_result"
    }
   ],
   "source": [
    "erk.kurtosis(df).sort_values().tail(1)"
   ]
  },
  {
   "cell_type": "code",
   "execution_count": null,
   "id": "a2594341",
   "metadata": {},
   "outputs": [],
   "source": []
  }
 ],
 "metadata": {
  "kernelspec": {
   "display_name": "Python 3 (ipykernel)",
   "language": "python",
   "name": "python3"
  },
  "language_info": {
   "codemirror_mode": {
    "name": "ipython",
    "version": 3
   },
   "file_extension": ".py",
   "mimetype": "text/x-python",
   "name": "python",
   "nbconvert_exporter": "python",
   "pygments_lexer": "ipython3",
   "version": "3.9.12"
  }
 },
 "nbformat": 4,
 "nbformat_minor": 5
}
