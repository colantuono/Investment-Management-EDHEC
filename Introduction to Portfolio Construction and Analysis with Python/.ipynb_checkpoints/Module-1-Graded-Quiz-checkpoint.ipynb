{
 "cells": [
  {
   "cell_type": "code",
   "execution_count": 1,
   "id": "f3affa59",
   "metadata": {},
   "outputs": [
    {
     "name": "stdout",
     "output_type": "stream",
     "text": [
      "C:\\Users\\joao.colantuono\\Investment-Management-EDHEC\\Introduction to Portfolio Construction and Analysis with Python\n"
     ]
    }
   ],
   "source": [
    "import os\n",
    "print(os.getcwd())\n",
    "os.chdir(\"C:/Users/joao.colantuono/Investment-Management-EDHEC/Introduction to Portfolio Construction and Analysis with Python/\")\n",
    "import warnings\n",
    "warnings.filterwarnings(\"ignore\")\n",
    "\n",
    "import pandas as pd\n",
    "import edhec_risk_kit as erk\n",
    "%load_ext autoreload\n",
    "%autoreload 2\n",
    "%matplotlib inline"
   ]
  },
  {
   "cell_type": "code",
   "execution_count": 2,
   "id": "361f3a8b",
   "metadata": {},
   "outputs": [],
   "source": [
    "data = pd.read_csv('data/Portfolios_Formed_on_ME_monthly_EW.csv'\n",
    "                  , header=0, index_col=0, parse_dates=True, na_values=-99.99)"
   ]
  },
  {
   "cell_type": "code",
   "execution_count": 3,
   "id": "a18ba0b3",
   "metadata": {
    "scrolled": true
   },
   "outputs": [],
   "source": [
    "df = data.copy()\n",
    "df = df[['Lo 20', 'Hi 20']]\n",
    "df.columns = ['Lo 20', 'Hi 20']\n",
    "df.index = pd.to_datetime(df.index, format=\"%Y%m\")"
   ]
  },
  {
   "cell_type": "code",
   "execution_count": 4,
   "id": "6a69c34e",
   "metadata": {},
   "outputs": [
    {
     "data": {
      "text/plain": [
       "15.197701163833743"
      ]
     },
     "execution_count": 4,
     "metadata": {},
     "output_type": "execute_result"
    }
   ],
   "source": [
    "returns = df['Lo 20']/100\n",
    "erk.annualize_rets(returns, 12)*100"
   ]
  },
  {
   "cell_type": "code",
   "execution_count": 5,
   "id": "abaf1f72",
   "metadata": {},
   "outputs": [
    {
     "data": {
      "text/plain": [
       "33.67012751715775"
      ]
     },
     "execution_count": 5,
     "metadata": {},
     "output_type": "execute_result"
    }
   ],
   "source": [
    "returns = df['Lo 20']/100\n",
    "erk.annualize_vol(returns, 12)*100"
   ]
  },
  {
   "cell_type": "code",
   "execution_count": 6,
   "id": "97612179",
   "metadata": {},
   "outputs": [
    {
     "data": {
      "text/plain": [
       "9.849020951253152"
      ]
     },
     "execution_count": 6,
     "metadata": {},
     "output_type": "execute_result"
    }
   ],
   "source": [
    "returns = df['Hi 20']/100\n",
    "erk.annualize_rets(returns, 12)*100"
   ]
  },
  {
   "cell_type": "code",
   "execution_count": 7,
   "id": "35dc93f9",
   "metadata": {},
   "outputs": [
    {
     "data": {
      "text/plain": [
       "19.511604155631314"
      ]
     },
     "execution_count": 7,
     "metadata": {},
     "output_type": "execute_result"
    }
   ],
   "source": [
    "returns = df['Hi 20']/100\n",
    "erk.annualize_vol(returns, 12)*100"
   ]
  },
  {
   "cell_type": "code",
   "execution_count": 8,
   "id": "262a72a3",
   "metadata": {},
   "outputs": [
    {
     "data": {
      "text/plain": [
       "11.442634058514933"
      ]
     },
     "execution_count": 8,
     "metadata": {},
     "output_type": "execute_result"
    }
   ],
   "source": [
    "returns = df['Lo 20']['1999':'2015']/100\n",
    "erk.annualize_rets(returns, 12)*100"
   ]
  },
  {
   "cell_type": "code",
   "execution_count": 9,
   "id": "8312c943",
   "metadata": {
    "scrolled": true
   },
   "outputs": [
    {
     "data": {
      "text/plain": [
       "22.889447266699595"
      ]
     },
     "execution_count": 9,
     "metadata": {},
     "output_type": "execute_result"
    }
   ],
   "source": [
    "returns = df['Lo 20']['1999':'2015']/100\n",
    "erk.annualize_vol(returns, 12)*100"
   ]
  },
  {
   "cell_type": "code",
   "execution_count": 10,
   "id": "0cf87900",
   "metadata": {},
   "outputs": [
    {
     "data": {
      "text/plain": [
       "6.286512130085109"
      ]
     },
     "execution_count": 10,
     "metadata": {},
     "output_type": "execute_result"
    }
   ],
   "source": [
    "returns = df['Hi 20']['1999':'2015']/100\n",
    "erk.annualize_rets(returns, 12)*100"
   ]
  },
  {
   "cell_type": "code",
   "execution_count": 11,
   "id": "6cb5f510",
   "metadata": {
    "scrolled": true
   },
   "outputs": [
    {
     "data": {
      "text/plain": [
       "17.271332121250474"
      ]
     },
     "execution_count": 11,
     "metadata": {},
     "output_type": "execute_result"
    }
   ],
   "source": [
    "returns = df['Hi 20']['1999':'2015']/100\n",
    "erk.annualize_vol(returns, 12)*100"
   ]
  },
  {
   "cell_type": "code",
   "execution_count": 19,
   "id": "56b7b9e1",
   "metadata": {
    "scrolled": true
   },
   "outputs": [
    {
     "data": {
      "text/plain": [
       "62.48092431236988"
      ]
     },
     "execution_count": 19,
     "metadata": {},
     "output_type": "execute_result"
    }
   ],
   "source": [
    "returns = df['Lo 20']['1999':'2015']/100\n",
    "-erk.drawdown(returns)['Drawdown'].min()*100"
   ]
  },
  {
   "cell_type": "code",
   "execution_count": 21,
   "id": "04678940",
   "metadata": {},
   "outputs": [
    {
     "data": {
      "text/plain": [
       "Timestamp('2009-02-01 00:00:00')"
      ]
     },
     "execution_count": 21,
     "metadata": {},
     "output_type": "execute_result"
    }
   ],
   "source": [
    "returns = df['Lo 20']['1999':'2015']/100\n",
    "erk.drawdown(returns)['Drawdown'].idxmin()"
   ]
  },
  {
   "cell_type": "code",
   "execution_count": 22,
   "id": "44e6cd45",
   "metadata": {
    "scrolled": true
   },
   "outputs": [
    {
     "data": {
      "text/plain": [
       "55.27349978713653"
      ]
     },
     "execution_count": 22,
     "metadata": {},
     "output_type": "execute_result"
    }
   ],
   "source": [
    "returns = df['Hi 20']['1999':'2015']/100\n",
    "-erk.drawdown(returns)['Drawdown'].min()*100"
   ]
  },
  {
   "cell_type": "code",
   "execution_count": 21,
   "id": "bb45a29d",
   "metadata": {},
   "outputs": [
    {
     "data": {
      "text/plain": [
       "Timestamp('2009-02-01 00:00:00')"
      ]
     },
     "execution_count": 21,
     "metadata": {},
     "output_type": "execute_result"
    }
   ],
   "source": [
    "returns = df['Hi 20']['1999':'2015']/100\n",
    "erk.drawdown(returns)['Drawdown'].idxmin()"
   ]
  },
  {
   "cell_type": "code",
   "execution_count": 27,
   "id": "b7e2d669",
   "metadata": {},
   "outputs": [],
   "source": [
    "data = pd.read_csv('data/edhec-hedgefundindices.csv'\n",
    "                  , header=0, index_col=0, parse_dates=True, na_values=-99.99)['2009':'2018']\n",
    "df = data.copy()"
   ]
  },
  {
   "cell_type": "code",
   "execution_count": 39,
   "id": "9f6845f0",
   "metadata": {},
   "outputs": [
    {
     "data": {
      "text/plain": [
       "Short Selling    2.124006\n",
       "dtype: float64"
      ]
     },
     "execution_count": 39,
     "metadata": {},
     "output_type": "execute_result"
    }
   ],
   "source": [
    "erk.semideviation(df).sort_values().tail(1)"
   ]
  },
  {
   "cell_type": "code",
   "execution_count": 40,
   "id": "c0720da6",
   "metadata": {},
   "outputs": [
    {
     "data": {
      "text/plain": [
       "Fixed Income Arbitrage    0.332054\n",
       "dtype: float64"
      ]
     },
     "execution_count": 40,
     "metadata": {},
     "output_type": "execute_result"
    }
   ],
   "source": [
    "erk.semideviation(df).sort_values().head(1)"
   ]
  },
  {
   "cell_type": "code",
   "execution_count": 37,
   "id": "26ff37e5",
   "metadata": {},
   "outputs": [
    {
     "data": {
      "text/plain": [
       "Equity Market Neutral   -0.896327\n",
       "dtype: float64"
      ]
     },
     "execution_count": 37,
     "metadata": {},
     "output_type": "execute_result"
    }
   ],
   "source": [
    "erk.skewness(df).sort_values().head(1)"
   ]
  },
  {
   "cell_type": "code",
   "execution_count": 38,
   "id": "9ed07e36",
   "metadata": {},
   "outputs": [
    {
     "data": {
      "text/plain": [
       "Convertible Arbitrage    6.775731\n",
       "dtype: float64"
      ]
     },
     "execution_count": 38,
     "metadata": {},
     "output_type": "execute_result"
    }
   ],
   "source": [
    "erk.kurtosis(df).sort_values().tail(1)"
   ]
  },
  {
   "cell_type": "code",
   "execution_count": null,
   "id": "5e00cf46",
   "metadata": {},
   "outputs": [],
   "source": []
  }
 ],
 "metadata": {
  "kernelspec": {
   "display_name": "Python 3 (ipykernel)",
   "language": "python",
   "name": "python3"
  },
  "language_info": {
   "codemirror_mode": {
    "name": "ipython",
    "version": 3
   },
   "file_extension": ".py",
   "mimetype": "text/x-python",
   "name": "python",
   "nbconvert_exporter": "python",
   "pygments_lexer": "ipython3",
   "version": "3.9.12"
  }
 },
 "nbformat": 4,
 "nbformat_minor": 5
}
